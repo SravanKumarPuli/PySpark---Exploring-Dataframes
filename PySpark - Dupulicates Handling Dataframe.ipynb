{
 "cells": [
  {
   "cell_type": "code",
   "execution_count": 1,
   "id": "d9cf950f",
   "metadata": {},
   "outputs": [],
   "source": [
    "from pyspark.sql import SparkSession\n",
    "import getpass\n",
    "username = getpass.getuser()\n",
    "spark = SparkSession. \\\n",
    "    builder. \\\n",
    "    config('spark.ui.port', '0'). \\\n",
    "    config(\"spark.sql.warehouse.dir\", f\"/user/itv009538/warehouse\"). \\\n",
    "    enableHiveSupport(). \\\n",
    "    master('yarn'). \\\n",
    "    getOrCreate()"
   ]
  },
  {
   "cell_type": "code",
   "execution_count": 2,
   "id": "e3adfdd3",
   "metadata": {},
   "outputs": [],
   "source": [
    "mylist=[\n",
    "(1,\"Kapil\",34),\n",
    "(1,\"Kapil\",34),\n",
    "(1,\"Satish\",26),\n",
    "(2,\"Satish\",26),]"
   ]
  },
  {
   "cell_type": "code",
   "execution_count": 3,
   "id": "1ea4239a",
   "metadata": {},
   "outputs": [],
   "source": [
    "df = spark.createDataFrame(mylist).toDF(\"id\", \"name\", \"age\")"
   ]
  },
  {
   "cell_type": "code",
   "execution_count": 4,
   "id": "142048f6",
   "metadata": {},
   "outputs": [
    {
     "name": "stdout",
     "output_type": "stream",
     "text": [
      "+---+------+---+\n",
      "| id|  name|age|\n",
      "+---+------+---+\n",
      "|  1| Kapil| 34|\n",
      "|  1| Kapil| 34|\n",
      "|  1|Satish| 26|\n",
      "|  2|Satish| 26|\n",
      "+---+------+---+\n",
      "\n"
     ]
    }
   ],
   "source": [
    "df.show()"
   ]
  },
  {
   "cell_type": "code",
   "execution_count": 5,
   "id": "e27caea3",
   "metadata": {},
   "outputs": [],
   "source": [
    "df1 = df.distinct()"
   ]
  },
  {
   "cell_type": "code",
   "execution_count": 6,
   "id": "d30b7701",
   "metadata": {},
   "outputs": [
    {
     "name": "stdout",
     "output_type": "stream",
     "text": [
      "+---+------+---+\n",
      "| id|  name|age|\n",
      "+---+------+---+\n",
      "|  1| Kapil| 34|\n",
      "|  2|Satish| 26|\n",
      "|  1|Satish| 26|\n",
      "+---+------+---+\n",
      "\n"
     ]
    }
   ],
   "source": [
    "df1.show()"
   ]
  },
  {
   "cell_type": "code",
   "execution_count": 7,
   "id": "092eeae9",
   "metadata": {},
   "outputs": [
    {
     "name": "stdout",
     "output_type": "stream",
     "text": [
      "+---+------+---+\n",
      "| id|  name|age|\n",
      "+---+------+---+\n",
      "|  1| Kapil| 34|\n",
      "|  2|Satish| 26|\n",
      "|  1|Satish| 26|\n",
      "+---+------+---+\n",
      "\n"
     ]
    }
   ],
   "source": [
    "df.dropDuplicates().show()"
   ]
  },
  {
   "cell_type": "code",
   "execution_count": 11,
   "id": "53ee8fb2",
   "metadata": {},
   "outputs": [
    {
     "name": "stdout",
     "output_type": "stream",
     "text": [
      "+---+------+---+\n",
      "| id|  name|age|\n",
      "+---+------+---+\n",
      "|  1| Kapil| 34|\n",
      "|  1|Satish| 26|\n",
      "+---+------+---+\n",
      "\n"
     ]
    }
   ],
   "source": [
    "df.dropDuplicates([\"name\", \"age\"]).show()"
   ]
  },
  {
   "cell_type": "code",
   "execution_count": null,
   "id": "ad15c72a",
   "metadata": {},
   "outputs": [],
   "source": []
  }
 ],
 "metadata": {
  "kernelspec": {
   "display_name": "Pyspark 3",
   "language": "python",
   "name": "pyspark3"
  },
  "language_info": {
   "codemirror_mode": {
    "name": "ipython",
    "version": 3
   },
   "file_extension": ".py",
   "mimetype": "text/x-python",
   "name": "python",
   "nbconvert_exporter": "python",
   "pygments_lexer": "ipython3",
   "version": "3.6.12"
  }
 },
 "nbformat": 4,
 "nbformat_minor": 5
}
