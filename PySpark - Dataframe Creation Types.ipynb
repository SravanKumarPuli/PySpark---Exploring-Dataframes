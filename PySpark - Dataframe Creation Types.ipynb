{
 "cells": [
  {
   "cell_type": "code",
   "execution_count": 1,
   "id": "a60dd3d8",
   "metadata": {},
   "outputs": [],
   "source": [
    "from pyspark.sql import SparkSession\n",
    "import getpass\n",
    "username = getpass.getuser()\n",
    "spark = SparkSession. \\\n",
    "    builder. \\\n",
    "    config('spark.ui.port', '0'). \\\n",
    "    config(\"spark.sql.warehouse.dir\", f\"/user/itv009538/warehouse\"). \\\n",
    "    enableHiveSupport(). \\\n",
    "    master('yarn'). \\\n",
    "    getOrCreate()"
   ]
  },
  {
   "cell_type": "markdown",
   "id": "4b9257e8",
   "metadata": {},
   "source": [
    "#### Different methods for creating DataFrames"
   ]
  },
  {
   "cell_type": "markdown",
   "id": "c68b180f",
   "metadata": {},
   "source": [
    "#### spark.read()"
   ]
  },
  {
   "cell_type": "code",
   "execution_count": 4,
   "id": "19299d31",
   "metadata": {},
   "outputs": [],
   "source": [
    "df = spark.read \\\n",
    ".format(\"csv\") \\\n",
    ".load(\"/public/trendytech/datasets/orders_sample1.csv\")"
   ]
  },
  {
   "cell_type": "code",
   "execution_count": 5,
   "id": "1c321539",
   "metadata": {},
   "outputs": [
    {
     "name": "stdout",
     "output_type": "stream",
     "text": [
      "+---+----------+-----+---------------+\n",
      "|_c0|       _c1|  _c2|            _c3|\n",
      "+---+----------+-----+---------------+\n",
      "|  1|2013-07-25|11599|         CLOSED|\n",
      "|  2|2013-07-25|  256|PENDING_PAYMENT|\n",
      "|  3|2013-07-25|12111|       COMPLETE|\n",
      "|  4|2013-07-25| 8827|         CLOSED|\n",
      "|  5|2013-07-25|11318|       COMPLETE|\n",
      "|  6|2013-07-25| 7130|       COMPLETE|\n",
      "|  7|2013-07-25| 4530|       COMPLETE|\n",
      "|  8|2013-07-25| 2911|     PROCESSING|\n",
      "|  9|2013-07-25| 5657|PENDING_PAYMENT|\n",
      "| 10|2013-07-25| 5648|PENDING_PAYMENT|\n",
      "+---+----------+-----+---------------+\n",
      "\n"
     ]
    }
   ],
   "source": [
    "df.show()"
   ]
  },
  {
   "cell_type": "code",
   "execution_count": 6,
   "id": "9a463a8b",
   "metadata": {},
   "outputs": [],
   "source": [
    "df = spark.sql(\"select * from itv005857_retail.orders_ext\")"
   ]
  },
  {
   "cell_type": "markdown",
   "id": "7ba7ee72",
   "metadata": {},
   "source": [
    "#### spark.sql()"
   ]
  },
  {
   "cell_type": "code",
   "execution_count": 7,
   "id": "1bde7b1c",
   "metadata": {},
   "outputs": [
    {
     "name": "stdout",
     "output_type": "stream",
     "text": [
      "+--------+--------------------+-----------+---------------+\n",
      "|order_id|          order_date|customer_id|   order_status|\n",
      "+--------+--------------------+-----------+---------------+\n",
      "|       1|2013-07-25 00:00:...|      11599|         CLOSED|\n",
      "|       2|2013-07-25 00:00:...|        256|PENDING_PAYMENT|\n",
      "|       3|2013-07-25 00:00:...|      12111|       COMPLETE|\n",
      "|       4|2013-07-25 00:00:...|       8827|         CLOSED|\n",
      "|       5|2013-07-25 00:00:...|      11318|       COMPLETE|\n",
      "|       6|2013-07-25 00:00:...|       7130|       COMPLETE|\n",
      "|       7|2013-07-25 00:00:...|       4530|       COMPLETE|\n",
      "|       8|2013-07-25 00:00:...|       2911|     PROCESSING|\n",
      "|       9|2013-07-25 00:00:...|       5657|PENDING_PAYMENT|\n",
      "|      10|2013-07-25 00:00:...|       5648|PENDING_PAYMENT|\n",
      "|      11|2013-07-25 00:00:...|        918| PAYMENT_REVIEW|\n",
      "|      12|2013-07-25 00:00:...|       1837|         CLOSED|\n",
      "|      13|2013-07-25 00:00:...|       9149|PENDING_PAYMENT|\n",
      "|      14|2013-07-25 00:00:...|       9842|     PROCESSING|\n",
      "|      15|2013-07-25 00:00:...|       2568|       COMPLETE|\n",
      "|      16|2013-07-25 00:00:...|       7276|PENDING_PAYMENT|\n",
      "|      17|2013-07-25 00:00:...|       2667|       COMPLETE|\n",
      "|      18|2013-07-25 00:00:...|       1205|         CLOSED|\n",
      "|      19|2013-07-25 00:00:...|       9488|PENDING_PAYMENT|\n",
      "|      20|2013-07-25 00:00:...|       9198|     PROCESSING|\n",
      "+--------+--------------------+-----------+---------------+\n",
      "only showing top 20 rows\n",
      "\n"
     ]
    }
   ],
   "source": [
    "df.show()"
   ]
  },
  {
   "cell_type": "markdown",
   "id": "d608ae75",
   "metadata": {},
   "source": [
    "#### spark.table()"
   ]
  },
  {
   "cell_type": "code",
   "execution_count": 8,
   "id": "130f2423",
   "metadata": {},
   "outputs": [],
   "source": [
    "df = spark.table(\"itv005857_retail.orders_ext\")"
   ]
  },
  {
   "cell_type": "code",
   "execution_count": 9,
   "id": "ecf258fd",
   "metadata": {},
   "outputs": [
    {
     "name": "stdout",
     "output_type": "stream",
     "text": [
      "+--------+--------------------+-----------+---------------+\n",
      "|order_id|          order_date|customer_id|   order_status|\n",
      "+--------+--------------------+-----------+---------------+\n",
      "|       1|2013-07-25 00:00:...|      11599|         CLOSED|\n",
      "|       2|2013-07-25 00:00:...|        256|PENDING_PAYMENT|\n",
      "|       3|2013-07-25 00:00:...|      12111|       COMPLETE|\n",
      "|       4|2013-07-25 00:00:...|       8827|         CLOSED|\n",
      "|       5|2013-07-25 00:00:...|      11318|       COMPLETE|\n",
      "|       6|2013-07-25 00:00:...|       7130|       COMPLETE|\n",
      "|       7|2013-07-25 00:00:...|       4530|       COMPLETE|\n",
      "|       8|2013-07-25 00:00:...|       2911|     PROCESSING|\n",
      "|       9|2013-07-25 00:00:...|       5657|PENDING_PAYMENT|\n",
      "|      10|2013-07-25 00:00:...|       5648|PENDING_PAYMENT|\n",
      "|      11|2013-07-25 00:00:...|        918| PAYMENT_REVIEW|\n",
      "|      12|2013-07-25 00:00:...|       1837|         CLOSED|\n",
      "|      13|2013-07-25 00:00:...|       9149|PENDING_PAYMENT|\n",
      "|      14|2013-07-25 00:00:...|       9842|     PROCESSING|\n",
      "|      15|2013-07-25 00:00:...|       2568|       COMPLETE|\n",
      "|      16|2013-07-25 00:00:...|       7276|PENDING_PAYMENT|\n",
      "|      17|2013-07-25 00:00:...|       2667|       COMPLETE|\n",
      "|      18|2013-07-25 00:00:...|       1205|         CLOSED|\n",
      "|      19|2013-07-25 00:00:...|       9488|PENDING_PAYMENT|\n",
      "|      20|2013-07-25 00:00:...|       9198|     PROCESSING|\n",
      "+--------+--------------------+-----------+---------------+\n",
      "only showing top 20 rows\n",
      "\n"
     ]
    }
   ],
   "source": [
    "df.show()"
   ]
  },
  {
   "cell_type": "markdown",
   "id": "30e918a5",
   "metadata": {},
   "source": [
    "#### spark.range()"
   ]
  },
  {
   "cell_type": "code",
   "execution_count": 10,
   "id": "f708dae4",
   "metadata": {},
   "outputs": [],
   "source": [
    "df = spark.range(5)"
   ]
  },
  {
   "cell_type": "code",
   "execution_count": 11,
   "id": "5764ff55",
   "metadata": {},
   "outputs": [
    {
     "name": "stdout",
     "output_type": "stream",
     "text": [
      "+---+\n",
      "| id|\n",
      "+---+\n",
      "|  0|\n",
      "|  1|\n",
      "|  2|\n",
      "|  3|\n",
      "|  4|\n",
      "+---+\n",
      "\n"
     ]
    }
   ],
   "source": [
    "df.show()"
   ]
  },
  {
   "cell_type": "code",
   "execution_count": 12,
   "id": "71db69ca",
   "metadata": {},
   "outputs": [],
   "source": [
    "df = spark.range(1,8)"
   ]
  },
  {
   "cell_type": "code",
   "execution_count": 13,
   "id": "b6160639",
   "metadata": {},
   "outputs": [
    {
     "name": "stdout",
     "output_type": "stream",
     "text": [
      "+---+\n",
      "| id|\n",
      "+---+\n",
      "|  1|\n",
      "|  2|\n",
      "|  3|\n",
      "|  4|\n",
      "|  5|\n",
      "|  6|\n",
      "|  7|\n",
      "+---+\n",
      "\n"
     ]
    }
   ],
   "source": [
    "df.show()"
   ]
  },
  {
   "cell_type": "code",
   "execution_count": 14,
   "id": "d569fdbe",
   "metadata": {},
   "outputs": [],
   "source": [
    "df = spark.range(1,8,3)"
   ]
  },
  {
   "cell_type": "code",
   "execution_count": 15,
   "id": "b93b4334",
   "metadata": {},
   "outputs": [
    {
     "name": "stdout",
     "output_type": "stream",
     "text": [
      "+---+\n",
      "| id|\n",
      "+---+\n",
      "|  1|\n",
      "|  4|\n",
      "|  7|\n",
      "+---+\n",
      "\n"
     ]
    }
   ],
   "source": [
    "df.show()"
   ]
  },
  {
   "cell_type": "markdown",
   "id": "e0161836",
   "metadata": {},
   "source": [
    "#### spark.createDataFrame()"
   ]
  },
  {
   "cell_type": "code",
   "execution_count": 17,
   "id": "36e17f02",
   "metadata": {},
   "outputs": [
    {
     "name": "stdout",
     "output_type": "stream",
     "text": [
      "1,2013-07-25 00:00:00.0,11599,CLOSED\n",
      "2,2013-07-25 00:00:00.0,256,PENDING_PAYMENT\n",
      "3,2013-07-25 00:00:00.0,12111,COMPLETE\n",
      "4,2013-07-25 00:00:00.0,8827,CLOSED\n",
      "5,2013-07-25 00:00:00.0,11318,COMPLETE\n",
      "6,2013-07-25 00:00:00.0,7130,COMPLETE\n",
      "7,2013-07-25 00:00:00.0,4530,COMPLETE\n",
      "8,2013-07-25 00:00:00.0,2911,PROCESSING\n",
      "9,2013-07-25 00:00:00.0,5657,PENDING_PAYMENT\n",
      "10,2013-07-25 00:00:00.0,5648,PENDING_PAYMENT\n",
      "cat: Unable to write to output stream.\n"
     ]
    }
   ],
   "source": [
    "! hadoop fs -cat /public/trendytech/retail_db/orders/part-00000 | head"
   ]
  },
  {
   "cell_type": "code",
   "execution_count": 29,
   "id": "d8996247",
   "metadata": {},
   "outputs": [],
   "source": [
    "df_list = [(1,'2013-07-25 00:00:00.000',11599,'CLOSED')\n",
    "      ,(2,'2013-07-25 00:00:00.000',256,'PENDING_PAYMENT')\n",
    "      ,(3,'2013-07-25 00:00:00.000',12111,'COMPLETE')]"
   ]
  },
  {
   "cell_type": "code",
   "execution_count": 30,
   "id": "f0ee1b75",
   "metadata": {},
   "outputs": [],
   "source": [
    "df_1 = spark.createDataFrame(df_list)"
   ]
  },
  {
   "cell_type": "code",
   "execution_count": 31,
   "id": "c0f4c51e",
   "metadata": {},
   "outputs": [
    {
     "name": "stdout",
     "output_type": "stream",
     "text": [
      "+---+--------------------+-----+---------------+\n",
      "| _1|                  _2|   _3|             _4|\n",
      "+---+--------------------+-----+---------------+\n",
      "|  1|2013-07-25 00:00:...|11599|         CLOSED|\n",
      "|  2|2013-07-25 00:00:...|  256|PENDING_PAYMENT|\n",
      "|  3|2013-07-25 00:00:...|12111|       COMPLETE|\n",
      "+---+--------------------+-----+---------------+\n",
      "\n"
     ]
    }
   ],
   "source": [
    "df_1.show()"
   ]
  },
  {
   "cell_type": "code",
   "execution_count": 32,
   "id": "52674c4f",
   "metadata": {},
   "outputs": [],
   "source": [
    "df1_1 = df_1.toDF('order_id', 'order_date', 'customer_id', 'order_status')"
   ]
  },
  {
   "cell_type": "code",
   "execution_count": 33,
   "id": "8420d1d0",
   "metadata": {},
   "outputs": [
    {
     "name": "stdout",
     "output_type": "stream",
     "text": [
      "+--------+--------------------+-----------+---------------+\n",
      "|order_id|          order_date|customer_id|   order_status|\n",
      "+--------+--------------------+-----------+---------------+\n",
      "|       1|2013-07-25 00:00:...|      11599|         CLOSED|\n",
      "|       2|2013-07-25 00:00:...|        256|PENDING_PAYMENT|\n",
      "|       3|2013-07-25 00:00:...|      12111|       COMPLETE|\n",
      "+--------+--------------------+-----------+---------------+\n",
      "\n"
     ]
    }
   ],
   "source": [
    "df1_1.show()"
   ]
  },
  {
   "cell_type": "code",
   "execution_count": 34,
   "id": "260cf42b",
   "metadata": {},
   "outputs": [],
   "source": [
    "orders_schema = ['order_id', 'order_date', 'customer_id', 'order_status']"
   ]
  },
  {
   "cell_type": "code",
   "execution_count": 35,
   "id": "a50000b2",
   "metadata": {},
   "outputs": [],
   "source": [
    "df1_2 = spark.createDataFrame(df_list,orders_schema)"
   ]
  },
  {
   "cell_type": "code",
   "execution_count": 36,
   "id": "5ee4428f",
   "metadata": {},
   "outputs": [
    {
     "name": "stdout",
     "output_type": "stream",
     "text": [
      "+--------+--------------------+-----------+---------------+\n",
      "|order_id|          order_date|customer_id|   order_status|\n",
      "+--------+--------------------+-----------+---------------+\n",
      "|       1|2013-07-25 00:00:...|      11599|         CLOSED|\n",
      "|       2|2013-07-25 00:00:...|        256|PENDING_PAYMENT|\n",
      "|       3|2013-07-25 00:00:...|      12111|       COMPLETE|\n",
      "+--------+--------------------+-----------+---------------+\n",
      "\n"
     ]
    }
   ],
   "source": [
    "df1_2.show()"
   ]
  },
  {
   "cell_type": "code",
   "execution_count": 37,
   "id": "432148a7",
   "metadata": {},
   "outputs": [],
   "source": [
    "df_2 = spark.createDataFrame(df_list, schema=\"order_id LONG, order_date STRING, customer_id LONG, order_status STRING\")"
   ]
  },
  {
   "cell_type": "code",
   "execution_count": 38,
   "id": "ee48ec34",
   "metadata": {},
   "outputs": [
    {
     "name": "stdout",
     "output_type": "stream",
     "text": [
      "+--------+--------------------+-----------+---------------+\n",
      "|order_id|          order_date|customer_id|   order_status|\n",
      "+--------+--------------------+-----------+---------------+\n",
      "|       1|2013-07-25 00:00:...|      11599|         CLOSED|\n",
      "|       2|2013-07-25 00:00:...|        256|PENDING_PAYMENT|\n",
      "|       3|2013-07-25 00:00:...|      12111|       COMPLETE|\n",
      "+--------+--------------------+-----------+---------------+\n",
      "\n"
     ]
    }
   ],
   "source": [
    "df_2.show()"
   ]
  },
  {
   "cell_type": "code",
   "execution_count": 39,
   "id": "3da798dc",
   "metadata": {},
   "outputs": [
    {
     "name": "stdout",
     "output_type": "stream",
     "text": [
      "root\n",
      " |-- order_id: long (nullable = true)\n",
      " |-- order_date: string (nullable = true)\n",
      " |-- customer_id: long (nullable = true)\n",
      " |-- order_status: string (nullable = true)\n",
      "\n"
     ]
    }
   ],
   "source": [
    "df_2.printSchema()"
   ]
  },
  {
   "cell_type": "code",
   "execution_count": 40,
   "id": "6a33b494",
   "metadata": {},
   "outputs": [],
   "source": [
    "from pyspark.sql.functions import to_timestamp"
   ]
  },
  {
   "cell_type": "code",
   "execution_count": 41,
   "id": "f7dcee40",
   "metadata": {},
   "outputs": [],
   "source": [
    "df_3 = df_2.withColumn(\"order_date\", to_timestamp('order_date'))"
   ]
  },
  {
   "cell_type": "code",
   "execution_count": 42,
   "id": "cb2b9116",
   "metadata": {},
   "outputs": [
    {
     "name": "stdout",
     "output_type": "stream",
     "text": [
      "root\n",
      " |-- order_id: long (nullable = true)\n",
      " |-- order_date: timestamp (nullable = true)\n",
      " |-- customer_id: long (nullable = true)\n",
      " |-- order_status: string (nullable = true)\n",
      "\n"
     ]
    }
   ],
   "source": [
    "df_3.printSchema()"
   ]
  },
  {
   "cell_type": "code",
   "execution_count": 43,
   "id": "c974e09d",
   "metadata": {},
   "outputs": [
    {
     "name": "stdout",
     "output_type": "stream",
     "text": [
      "+--------+-------------------+-----------+---------------+\n",
      "|order_id|         order_date|customer_id|   order_status|\n",
      "+--------+-------------------+-----------+---------------+\n",
      "|       1|2013-07-25 00:00:00|      11599|         CLOSED|\n",
      "|       2|2013-07-25 00:00:00|        256|PENDING_PAYMENT|\n",
      "|       3|2013-07-25 00:00:00|      12111|       COMPLETE|\n",
      "+--------+-------------------+-----------+---------------+\n",
      "\n"
     ]
    }
   ],
   "source": [
    "df_3.show()"
   ]
  }
 ],
 "metadata": {
  "kernelspec": {
   "display_name": "Pyspark 3",
   "language": "python",
   "name": "pyspark3"
  },
  "language_info": {
   "codemirror_mode": {
    "name": "ipython",
    "version": 3
   },
   "file_extension": ".py",
   "mimetype": "text/x-python",
   "name": "python",
   "nbconvert_exporter": "python",
   "pygments_lexer": "ipython3",
   "version": "3.6.12"
  }
 },
 "nbformat": 4,
 "nbformat_minor": 5
}
