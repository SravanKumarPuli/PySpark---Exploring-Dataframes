{
 "cells": [
  {
   "cell_type": "code",
   "execution_count": 1,
   "id": "c5877bd0",
   "metadata": {},
   "outputs": [],
   "source": [
    "from pyspark.sql import SparkSession\n",
    "import getpass\n",
    "username = getpass.getuser()\n",
    "spark = SparkSession. \\\n",
    "    builder. \\\n",
    "    config('spark.ui.port', '0'). \\\n",
    "    config(\"spark.sql.warehouse.dir\", f\"/user/itv009538/warehouse\"). \\\n",
    "    enableHiveSupport(). \\\n",
    "    master('yarn'). \\\n",
    "    getOrCreate()"
   ]
  },
  {
   "cell_type": "markdown",
   "id": "4771bf0a",
   "metadata": {},
   "source": [
    "### Creating nested schema"
   ]
  },
  {
   "cell_type": "code",
   "execution_count": 2,
   "id": "ffb33dc6",
   "metadata": {},
   "outputs": [],
   "source": [
    "ddlSchema = \"customer_id long, fullname struct<firstname:string, lastname:string>, city string\""
   ]
  },
  {
   "cell_type": "code",
   "execution_count": 3,
   "id": "490855b3",
   "metadata": {},
   "outputs": [],
   "source": [
    "df = spark.read.format(\"json\").schema(ddlSchema).load(\"/public/trendytech/datasets/customer_nested/*\")"
   ]
  },
  {
   "cell_type": "code",
   "execution_count": 4,
   "id": "7770598d",
   "metadata": {},
   "outputs": [
    {
     "name": "stdout",
     "output_type": "stream",
     "text": [
      "+-----------+----------------+---------+\n",
      "|customer_id|        fullname|     city|\n",
      "+-----------+----------------+---------+\n",
      "|          2|    {ram, kumar}|hyderabad|\n",
      "|          3|{vijay, shankar}|     pune|\n",
      "|          1| {sumit, mittal}|bangalore|\n",
      "+-----------+----------------+---------+\n",
      "\n"
     ]
    }
   ],
   "source": [
    "df.show()"
   ]
  },
  {
   "cell_type": "code",
   "execution_count": 5,
   "id": "30540689",
   "metadata": {},
   "outputs": [
    {
     "name": "stdout",
     "output_type": "stream",
     "text": [
      "root\n",
      " |-- customer_id: long (nullable = true)\n",
      " |-- fullname: struct (nullable = true)\n",
      " |    |-- firstname: string (nullable = true)\n",
      " |    |-- lastname: string (nullable = true)\n",
      " |-- city: string (nullable = true)\n",
      "\n"
     ]
    }
   ],
   "source": [
    "df.printSchema()"
   ]
  },
  {
   "cell_type": "code",
   "execution_count": 7,
   "id": "b94622e2",
   "metadata": {},
   "outputs": [],
   "source": [
    "from pyspark.sql.types import *"
   ]
  },
  {
   "cell_type": "code",
   "execution_count": 23,
   "id": "05d00db3",
   "metadata": {},
   "outputs": [],
   "source": [
    "customer_schema = StructType([\n",
    "StructField(\"customer_id\", LongType()),\n",
    "StructField(\"fullname\", StructType([StructField(\"firstname\", StringType()), StructField(\"lastname\", StringType())])),\n",
    "StructField(\"city\", StringType())\n",
    "])"
   ]
  },
  {
   "cell_type": "code",
   "execution_count": 24,
   "id": "2d812b18",
   "metadata": {},
   "outputs": [],
   "source": [
    "df = spark.read.format(\"json\").schema(customer_schema).load(\"/public/trendytech/datasets/customer_nested/*\")"
   ]
  },
  {
   "cell_type": "code",
   "execution_count": 25,
   "id": "78fa1c2a",
   "metadata": {},
   "outputs": [
    {
     "name": "stdout",
     "output_type": "stream",
     "text": [
      "+-----------+----------------+---------+\n",
      "|customer_id|        fullname|     city|\n",
      "+-----------+----------------+---------+\n",
      "|          2|    {ram, kumar}|hyderabad|\n",
      "|          3|{vijay, shankar}|     pune|\n",
      "|          1| {sumit, mittal}|bangalore|\n",
      "+-----------+----------------+---------+\n",
      "\n"
     ]
    }
   ],
   "source": [
    "df.show()"
   ]
  },
  {
   "cell_type": "code",
   "execution_count": 26,
   "id": "5a009cd4",
   "metadata": {},
   "outputs": [
    {
     "name": "stdout",
     "output_type": "stream",
     "text": [
      "root\n",
      " |-- customer_id: long (nullable = true)\n",
      " |-- fullname: struct (nullable = true)\n",
      " |    |-- firstname: string (nullable = true)\n",
      " |    |-- lastname: string (nullable = true)\n",
      " |-- city: string (nullable = true)\n",
      "\n"
     ]
    }
   ],
   "source": [
    "df.printSchema()"
   ]
  },
  {
   "cell_type": "code",
   "execution_count": 31,
   "id": "13384be9",
   "metadata": {},
   "outputs": [],
   "source": [
    "customer_list = [\n",
    "    (1, (\"sumit\", \"mittal\"), \"bangalore\"),\n",
    "    (2, (\"ram\", \"kumar\"), \"hyderabad\"),\n",
    "    (3, (\"vijay\", \"shankar\"), \"pune\"),\n",
    "]"
   ]
  },
  {
   "cell_type": "code",
   "execution_count": 32,
   "id": "55ebdc58",
   "metadata": {},
   "outputs": [],
   "source": [
    "ddlSchema = \"customer_id long, fullname struct<firstname:string, lastname:string>, city string\""
   ]
  },
  {
   "cell_type": "code",
   "execution_count": 33,
   "id": "0733c187",
   "metadata": {},
   "outputs": [],
   "source": [
    "df = spark.createDataFrame(customer_list, ddlSchema)"
   ]
  },
  {
   "cell_type": "code",
   "execution_count": 34,
   "id": "a53dbe20",
   "metadata": {},
   "outputs": [
    {
     "name": "stdout",
     "output_type": "stream",
     "text": [
      "+-----------+----------------+---------+\n",
      "|customer_id|        fullname|     city|\n",
      "+-----------+----------------+---------+\n",
      "|          1| {sumit, mittal}|bangalore|\n",
      "|          2|    {ram, kumar}|hyderabad|\n",
      "|          3|{vijay, shankar}|     pune|\n",
      "+-----------+----------------+---------+\n",
      "\n"
     ]
    }
   ],
   "source": [
    "df.show()"
   ]
  },
  {
   "cell_type": "code",
   "execution_count": 35,
   "id": "d841f7bd",
   "metadata": {},
   "outputs": [],
   "source": [
    "customer_schema = StructType([\n",
    "StructField(\"customer_id\", LongType()),\n",
    "StructField(\"fullname\", StructType([StructField(\"firstname\", StringType()), StructField(\"lastname\", StringType())])),\n",
    "StructField(\"city\", StringType())\n",
    "])"
   ]
  },
  {
   "cell_type": "code",
   "execution_count": 36,
   "id": "83aba46e",
   "metadata": {},
   "outputs": [],
   "source": [
    "df = spark.createDataFrame(customer_list, customer_schema)"
   ]
  },
  {
   "cell_type": "code",
   "execution_count": 37,
   "id": "2285c4fd",
   "metadata": {},
   "outputs": [
    {
     "name": "stdout",
     "output_type": "stream",
     "text": [
      "+-----------+----------------+---------+\n",
      "|customer_id|        fullname|     city|\n",
      "+-----------+----------------+---------+\n",
      "|          1| {sumit, mittal}|bangalore|\n",
      "|          2|    {ram, kumar}|hyderabad|\n",
      "|          3|{vijay, shankar}|     pune|\n",
      "+-----------+----------------+---------+\n",
      "\n"
     ]
    }
   ],
   "source": [
    "df.show()"
   ]
  },
  {
   "cell_type": "code",
   "execution_count": null,
   "id": "adfdcea5",
   "metadata": {},
   "outputs": [],
   "source": []
  }
 ],
 "metadata": {
  "kernelspec": {
   "display_name": "Pyspark 3",
   "language": "python",
   "name": "pyspark3"
  },
  "language_info": {
   "codemirror_mode": {
    "name": "ipython",
    "version": 3
   },
   "file_extension": ".py",
   "mimetype": "text/x-python",
   "name": "python",
   "nbconvert_exporter": "python",
   "pygments_lexer": "ipython3",
   "version": "3.6.12"
  }
 },
 "nbformat": 4,
 "nbformat_minor": 5
}
